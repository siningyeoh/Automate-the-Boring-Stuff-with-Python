{
 "cells": [
  {
   "cell_type": "code",
   "execution_count": 74,
   "metadata": {},
   "outputs": [
    {
     "name": "stdout",
     "output_type": "stream",
     "text": [
      "$a\n"
     ]
    }
   ],
   "source": [
    "def linecheck():    #check number of lines that will need cleaning in the file\n",
    "    number=0\n",
    "    with open(\"Regex example test dataset.txt\", encoding=\"utf8\") as fin:    #use 'with' to auto-close the file when done\n",
    "        for line in fin:\n",
    "            if line.startswith('=300 '):\n",
    "                number+=1\n",
    "        print(number)\n",
    "\n",
    "line_list=[]\n",
    "\n",
    "#open txt file\n",
    "with open(\"Regex example test dataset.txt\", \"r\", encoding=\"utf8\") as txtfile, open(\"new.txt\", \"w\", encoding=\"utf8\") as fin:    #use 'with' to auto-close the file when done\n",
    "    for line in txtfile:\n",
    "        if line.startswith('=300'):\n",
    "            newline=line.strip().split('$')     #split on subfields $a, $b, $c\n",
    "            newline.sort()                      #sort the subfields in alphabetical order\n",
    "            fineline='$'.join(newline)          #join the subfields back together\n",
    "            #make your spacing/punctuation edits here\n",
    "            line_list.append(fineline + \"\\n\")\n",
    "        else:\n",
    "            line_list.append(line)\n",
    "    fin.writelines(line_list)                   #write these lines to a new text file\n"
   ]
  }
 ],
 "metadata": {
  "interpreter": {
   "hash": "97ae724bfa85b9b34df7982b8bb8c7216f435b92902d749e4263f71162bea840"
  },
  "kernelspec": {
   "display_name": "Python 3.8.3 64-bit ('base': conda)",
   "name": "python3"
  },
  "language_info": {
   "codemirror_mode": {
    "name": "ipython",
    "version": 3
   },
   "file_extension": ".py",
   "mimetype": "text/x-python",
   "name": "python",
   "nbconvert_exporter": "python",
   "pygments_lexer": "ipython3",
   "version": "3.8.3"
  },
  "orig_nbformat": 4
 },
 "nbformat": 4,
 "nbformat_minor": 2
}
